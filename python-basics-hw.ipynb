{
 "cells": [
  {
   "cell_type": "markdown",
   "metadata": {},
   "source": [
    "**Задание 1**. Даны 2 строки: *long_phrase* и *short_phrase*. \n",
    "Напишите код, который проверяет действительно ли длинная фраза *long_phrase* длиннее короткой *short_phrase*. И выводит *True* или *False* в зависимости от результата сравнения."
   ]
  },
  {
   "cell_type": "code",
   "execution_count": null,
   "metadata": {},
   "outputs": [],
   "source": [
    "long_phrase = 'Насколько проще было бы писать программы, если бы не заказчики'\n",
    "short_phrase = '640Кб должно хватить для любых задач. Билл Гейтс (по легенде)'"
   ]
  },
  {
   "cell_type": "code",
   "execution_count": 9,
   "metadata": {},
   "outputs": [
    {
     "data": {
      "text/plain": [
       "False"
      ]
     },
     "execution_count": 9,
     "metadata": {},
     "output_type": "execute_result"
    }
   ],
   "source": [
    "len('long_phrase') > len('short_phrase')"
   ]
  },
  {
   "cell_type": "markdown",
   "metadata": {},
   "source": [
    "**Задание 2**. Дано значение объема файла в байтах. Напишите перевод этого значения в мегабайты в формате: \"*Объем файла равен 213.68Mb*\""
   ]
  },
  {
   "cell_type": "code",
   "execution_count": 13,
   "metadata": {},
   "outputs": [
    {
     "name": "stdout",
     "output_type": "stream",
     "text": [
      "Объем файла равен 213.68 Mb\n"
     ]
    }
   ],
   "source": [
    "vol=224059720\n",
    "print('Объем файла равен', round(vol/1048576,2), 'Mb')"
   ]
  },
  {
   "cell_type": "markdown",
   "metadata": {},
   "source": [
    "**Задание 3**. Разработать приложение для определения знака зодиака по дате рождения. Пример:\n",
    "\n",
    "Введите месяц: март\n",
    "\n",
    "Введите число: 6\n",
    "\n",
    "Вывод:\n",
    "Рыбы"
   ]
  },
  {
   "cell_type": "code",
   "execution_count": 8,
   "metadata": {},
   "outputs": [
    {
     "name": "stdout",
     "output_type": "stream",
     "text": [
      "Введите день:12\n",
      "Введите порядковый номер месяца:12\n",
      "стрелец\n"
     ]
    }
   ],
   "source": [
    "day = int(input('Введите день:'))\n",
    "month = int(input('Введите порядковый номер месяца:'))\n",
    "if (21<=day<=31 and month == 3) or (1<=day<=20 and month == 4):\n",
    "  print ('овен')\n",
    "if (21<=day<=30 and month == 4) or (1<=day<=20 and month == 5):\n",
    "  print ('телец')\n",
    "if (21<=day<=31 and month == 5) or (1<=day<=21 and month == 6):\n",
    "  print ('близнецы')  \n",
    "if (22<=day<=30 and month == 6) or (1<=day<=22 and month == 7):\n",
    "  print ('рак')  \n",
    "if (23<=day<=31 and month == 7) or (1<=day<=23 and month == 8):\n",
    "  print ('лев') \n",
    "if (24<=day<=31 and month == 8) or (1<=day<=23 and month == 9):\n",
    "  print ('дева') \n",
    "if (24<=day<=30 and month == 9) or (1<=day<=23 and month == 10):\n",
    "  print ('весы')\n",
    "if (24<=day<=31 and month == 10) or (1<=day<=22 and month == 11):\n",
    "  print ('скорпион')\n",
    "if (23<=day<=30 and month == 11) or (1<=day<=21 and month == 12):\n",
    "  print ('стрелец')\n",
    "if (22<=day<=31 and month == 12) or (1<=day<=20 and month == 1):\n",
    "  print ('козерог')\n",
    "if (21<=day<=31 and month == 1) or (1<=day<=20 and month == 2):\n",
    "  print ('водолей')  \n",
    "if (21<=day<=29 and month == 2) or (1<=day<=20 and month == 3):\n",
    "  print ('рыбы')\n",
    "if day>31 or month >12:\n",
    "  print('Неккоректная дата')\n",
    " "
   ]
  },
  {
   "cell_type": "markdown",
   "metadata": {},
   "source": [
    "**Задание 4**. Нужно разработать приложение для финансового планирования.\n",
    "Приложение учитывает сколько уходит на ипотеку, \"на жизнь\" и сколько нужно отложить на пенсию.\n",
    "Пользователь вводит:\n",
    "- заработанную плату в месяц.\n",
    "- сколько процентов от ЗП уходит на ипотеку.\n",
    "- сколько процентов от ЗП уходит \"на жизнь\".\n",
    "- сколько раз приходит премия в год.\n",
    "\n",
    "Остальная часть заработанной платы откладывается на пенсию.\n",
    "\n",
    "Также пользователю приходит премия в размере зарплаты, от которой половина уходит на отпуск, а вторая половина откладывается.\n",
    "\n",
    "Программа должна учитывать сколько премий было в год.\n",
    "\n",
    "Нужно вывести сколько денег тратит пользователь на ипотеку и сколько он накопит за год.\n",
    "\n",
    "Пример:\n",
    "\n",
    "Введите заработанную плату в месяц: 100000\n",
    "\n",
    "Введите сколько процентов уходит на ипотеку: 30\n",
    "\n",
    "Введите сколько процентов уходит на жизнь: 50\n",
    "\n",
    "Введите количество премий за год: 2\n",
    "\n",
    "Вывод:\n",
    "На ипотеку было потрачено: 360000 рублей\n",
    "Было накоплено: 340000 рублей"
   ]
  },
  {
   "cell_type": "code",
   "execution_count": 1,
   "metadata": {},
   "outputs": [
    {
     "name": "stdout",
     "output_type": "stream",
     "text": [
      "Введите заработанную плату в месяц:20000\n",
      "Введите сколько процентов уходит на ипотеку:50\n",
      "Введите сколько процентов уходит на жизнь:20\n",
      "Введите количество премий за год:2\n",
      "На ипотеку было потрачено: 10000.0 рублей\n",
      "Было накоплено: 26000.0 рублей\n"
     ]
    }
   ],
   "source": [
    "user_salary= int(input('Введите заработанную плату в месяц:'))\n",
    "mortgage_payment = int(input('Введите сколько процентов уходит на ипотеку:'))\n",
    "life_spending = int(input('Введите сколько процентов уходит на жизнь:'))\n",
    "user_bonus = int(input('Введите количество премий за год:'))\n",
    "mortgage_payment_1= (user_salary * (mortgage_payment/100))\n",
    "#print (mortgage_payment_1)\n",
    "life_spending_1 = (user_salary * (life_spending/100))\n",
    "#print(life_spending_1)\n",
    "user_bonus_1 = user_salary * user_bonus\n",
    "#print(user_bonus_1)\n",
    "pension_accum = user_salary - mortgage_payment_1 - life_spending_1 +user_bonus_1/2\n",
    "print('На ипотеку было потрачено:', mortgage_payment_1,'рублей') \n",
    "print('Было накоплено:',pension_accum, 'рублей')\n"
   ]
  },
  {
   "cell_type": "code",
   "execution_count": null,
   "metadata": {},
   "outputs": [],
   "source": []
  }
 ],
 "metadata": {
  "kernelspec": {
   "display_name": "Python 3",
   "language": "python",
   "name": "python3"
  },
  "language_info": {
   "codemirror_mode": {
    "name": "ipython",
    "version": 3
   },
   "file_extension": ".py",
   "mimetype": "text/x-python",
   "name": "python",
   "nbconvert_exporter": "python",
   "pygments_lexer": "ipython3",
   "version": "3.7.4"
  }
 },
 "nbformat": 4,
 "nbformat_minor": 2
}
